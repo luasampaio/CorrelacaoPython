{
  "nbformat": 4,
  "nbformat_minor": 0,
  "metadata": {
    "colab": {
      "provenance": [],
      "authorship_tag": "ABX9TyO/hFl0d/rXgvnTdI98W73Y",
      "include_colab_link": true
    },
    "kernelspec": {
      "name": "python3",
      "display_name": "Python 3"
    },
    "language_info": {
      "name": "python"
    }
  },
  "cells": [
    {
      "cell_type": "markdown",
      "metadata": {
        "id": "view-in-github",
        "colab_type": "text"
      },
      "source": [
        "<a href=\"https://colab.research.google.com/github/luasampaio/CorrelacaoPython/blob/main/coeficiente_de_conting%C3%AAncia_de_Pearson.ipynb\" target=\"_parent\"><img src=\"https://colab.research.google.com/assets/colab-badge.svg\" alt=\"Open In Colab\"/></a>"
      ]
    },
    {
      "cell_type": "code",
      "execution_count": 1,
      "metadata": {
        "colab": {
          "base_uri": "https://localhost:8080/"
        },
        "id": "XAAKmtgl23Mk",
        "outputId": "3565ef0d-abde-4517-9672-d83861e4cc61"
      },
      "outputs": [
        {
          "output_type": "stream",
          "name": "stdout",
          "text": [
            "Coeficiente de contingencia de Pearson: 0.7071067811865476\n"
          ]
        }
      ],
      "source": [
        "import pandas as pd\n",
        "from scipy.stats import chi2_contingency\n",
        "\n",
        "# Vamos criar um DataFrame de exemplo com variáveis categóricas em strings\n",
        "data = {\n",
        "    'joao': ['hospital', 'especialidade', 'consulta'],\n",
        "    'maria': ['hospital', 'especialidade', 'exame']\n",
        "}\n",
        "\n",
        "df = pd.DataFrame(data)\n",
        "\n",
        "# Criação de uma tabela de contingência\n",
        "contingency_table = pd.crosstab(df['joao'], df['maria'])\n",
        "\n",
        "# Aplicando o teste qui-quadrado para calcular o coeficiente de contingência de Pearson\n",
        "chi2, p, dof, expected = chi2_contingency(contingency_table)\n",
        "\n",
        "# Exibindo o coeficiente de contingência de Pearson\n",
        "print(f\"Coeficiente de contingencia de Pearson: {((chi2)/(chi2 + len(df) * (min(contingency_table.shape) - 1))) ** 0.5}\")\n"
      ]
    },
    {
      "cell_type": "code",
      "source": [],
      "metadata": {
        "id": "P7cg9Ceh3NXB"
      },
      "execution_count": null,
      "outputs": []
    }
  ]
}